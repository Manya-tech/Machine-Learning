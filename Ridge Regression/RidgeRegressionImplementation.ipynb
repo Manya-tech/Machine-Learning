{
 "cells": [
  {
   "cell_type": "code",
   "execution_count": 35,
   "metadata": {},
   "outputs": [
    {
     "data": {
      "text/plain": [
       "0.46931288533098037"
      ]
     },
     "execution_count": 35,
     "metadata": {},
     "output_type": "execute_result"
    }
   ],
   "source": [
    "from sklearn.datasets import load_diabetes\n",
    "from sklearn.metrics import r2_score\n",
    "import numpy as np\n",
    "X,y = load_diabetes(return_X_y=True)\n",
    "from sklearn.model_selection import train_test_split\n",
    "X_train,X_test,y_train,y_test = train_test_split(X,y,test_size=0.2,random_state=4)\n",
    "from sklearn.linear_model import Ridge\n",
    "reg = Ridge(alpha=0.1,solver='cholesky')\n",
    "reg.fit(X_train,y_train)\n",
    "Ridge(alpha=0.1, solver='cholesky')\n",
    "y_pred = reg.predict(X_test)\n",
    "r2_score(y_test,y_pred)"
   ]
  },
  {
   "cell_type": "code",
   "execution_count": 36,
   "metadata": {},
   "outputs": [
    {
     "data": {
      "text/plain": [
       "150.89053425602808"
      ]
     },
     "execution_count": 36,
     "metadata": {},
     "output_type": "execute_result"
    }
   ],
   "source": [
    "reg.intercept_"
   ]
  },
  {
   "cell_type": "code",
   "execution_count": 37,
   "metadata": {},
   "outputs": [
    {
     "data": {
      "text/plain": [
       "array([  44.02063391, -241.69329987,  452.98665299,  332.04420177,\n",
       "        -76.33686744,  -68.52143809, -164.98809083,  149.96908118,\n",
       "        431.61347417,   58.51862681])"
      ]
     },
     "execution_count": 37,
     "metadata": {},
     "output_type": "execute_result"
    }
   ],
   "source": [
    "reg.coef_"
   ]
  },
  {
   "cell_type": "code",
   "execution_count": 38,
   "metadata": {},
   "outputs": [],
   "source": [
    "class MyRidge : \n",
    "\n",
    "    def __init__(self, alpha=0.1):\n",
    "        self.coef_ = None\n",
    "        self.intercept_ = None\n",
    "        self.alpha  = alpha\n",
    "\n",
    "    def fit(self, X_train, y_train):\n",
    "\n",
    "        X_train = np.insert(X_train,0,1,axis=1)\n",
    "        I = np.identity(X_train.shape[1])\n",
    "        I[0][0] = 0\n",
    "\n",
    "        result = np.linalg.inv(np.dot(X_train.T,X_train)+self.alpha*I).dot(X_train.T).dot(y_train)\n",
    "        self.intercept_ = result[0]\n",
    "        self.coef_ = result[1:]\n",
    "\n",
    "        print(self.intercept_)\n",
    "        print(self.coef_)\n",
    "\n",
    "    def predict(self,X_test):\n",
    "        return np.dot(X_test,self.coef_) + self.intercept_\n",
    "        \n",
    "        "
   ]
  },
  {
   "cell_type": "code",
   "execution_count": 39,
   "metadata": {},
   "outputs": [],
   "source": [
    "rr = MyRidge()"
   ]
  },
  {
   "cell_type": "code",
   "execution_count": 40,
   "metadata": {},
   "outputs": [
    {
     "name": "stdout",
     "output_type": "stream",
     "text": [
      "150.89053425602808\n",
      "[  44.02063391 -241.69329987  452.98665299  332.04420177  -76.33686744\n",
      "  -68.52143809 -164.98809083  149.96908118  431.61347417   58.51862681]\n"
     ]
    }
   ],
   "source": [
    "rr.fit(X_train,y_train)"
   ]
  },
  {
   "cell_type": "code",
   "execution_count": 41,
   "metadata": {},
   "outputs": [],
   "source": [
    "y_pred = rr.predict(X_test)"
   ]
  },
  {
   "cell_type": "code",
   "execution_count": 42,
   "metadata": {},
   "outputs": [
    {
     "data": {
      "text/plain": [
       "0.46931288533098037"
      ]
     },
     "execution_count": 42,
     "metadata": {},
     "output_type": "execute_result"
    }
   ],
   "source": [
    "r2_score(y_test,y_pred)"
   ]
  }
 ],
 "metadata": {
  "kernelspec": {
   "display_name": "base",
   "language": "python",
   "name": "python3"
  },
  "language_info": {
   "codemirror_mode": {
    "name": "ipython",
    "version": 3
   },
   "file_extension": ".py",
   "mimetype": "text/x-python",
   "name": "python",
   "nbconvert_exporter": "python",
   "pygments_lexer": "ipython3",
   "version": "3.11.4"
  },
  "orig_nbformat": 4
 },
 "nbformat": 4,
 "nbformat_minor": 2
}
